{
  "nbformat": 4,
  "nbformat_minor": 0,
  "metadata": {
    "colab": {
      "name": "train.ipynb",
      "version": "0.3.2",
      "provenance": [],
      "collapsed_sections": []
    },
    "kernelspec": {
      "name": "python3",
      "display_name": "Python 3"
    },
    "accelerator": "GPU"
  },
  "cells": [
    {
      "cell_type": "code",
      "metadata": {
        "id": "AlOdtegmPesG",
        "colab_type": "code",
        "colab": {}
      },
      "source": [
        "import numpy as np\n",
        "import tensorflow as tf \n",
        "from tensorflow.keras import applications\n",
        "from tensorflow.keras import optimizers\n",
        "from tensorflow.keras.models import Sequential,Model\n",
        "from tensorflow.keras.layers import Dense, Dropout, Activation, Flatten, Conv2D, MaxPooling2D\n",
        "from tensorflow.keras.preprocessing import image\n",
        "from tensorflow.keras.utils import to_categorical\n",
        "import pandas as pd\n",
        "from keras_preprocessing.image import ImageDataGenerator\n",
        "import os\n",
        "import cv2\n",
        "import random\n",
        "import keras.backend as K\n"
      ],
      "execution_count": 0,
      "outputs": []
    },
    {
      "cell_type": "markdown",
      "metadata": {
        "id": "HSsNsfStRSeZ",
        "colab_type": "text"
      },
      "source": [
        "# Load Data From git\n",
        "* don't do it if already did\n"
      ]
    },
    {
      "cell_type": "code",
      "metadata": {
        "id": "ID02mRFpQ_34",
        "colab_type": "code",
        "outputId": "f187da99-1aa2-409f-abf0-3d867c6b5a05",
        "colab": {
          "base_uri": "https://localhost:8080/",
          "height": 119
        }
      },
      "source": [
        "!git clone https://github.com/zhuqiangLu/deeplearning_dataset.git"
      ],
      "execution_count": 0,
      "outputs": [
        {
          "output_type": "stream",
          "text": [
            "Cloning into 'deeplearning_dataset'...\n",
            "remote: Enumerating objects: 47446, done.\u001b[K\n",
            "remote: Total 47446 (delta 0), reused 0 (delta 0), pack-reused 47446\n",
            "Receiving objects: 100% (47446/47446), 1.86 GiB | 46.23 MiB/s, done.\n",
            "Resolving deltas: 100% (5/5), done.\n",
            "Checking out files: 100% (47444/47444), done.\n"
          ],
          "name": "stdout"
        }
      ]
    },
    {
      "cell_type": "code",
      "metadata": {
        "id": "FmDUf9sZSnio",
        "colab_type": "code",
        "outputId": "b0de9b45-942f-4c30-89fb-d5b026de1250",
        "colab": {
          "base_uri": "https://localhost:8080/",
          "height": 34
        }
      },
      "source": [
        "cd deeplearning_dataset\n"
      ],
      "execution_count": 0,
      "outputs": [
        {
          "output_type": "stream",
          "text": [
            "/content/deeplearning_dataset\n"
          ],
          "name": "stdout"
        }
      ]
    },
    {
      "cell_type": "code",
      "metadata": {
        "id": "-MAb1ABqSuDF",
        "colab_type": "code",
        "outputId": "d1f34d4b-47b1-46e2-b3c2-b409ea4d1b30",
        "colab": {
          "base_uri": "https://localhost:8080/",
          "height": 68
        }
      },
      "source": [
        "ls"
      ],
      "execution_count": 33,
      "outputs": [
        {
          "output_type": "stream",
          "text": [
            "README.md                                             test.csv    train.txt\n",
            "resnet50_weights_tf_dim_ordering_tf_kernels_notop.h5  \u001b[0m\u001b[01;34mtrain2014\u001b[0m/  t.txt\n",
            "results_2.csv                                         train.csv   \u001b[01;34mval2014\u001b[0m/\n"
          ],
          "name": "stdout"
        }
      ]
    },
    {
      "cell_type": "markdown",
      "metadata": {
        "id": "Ci83Tm5NTD-A",
        "colab_type": "text"
      },
      "source": [
        "#Define CONFIGs\n"
      ]
    },
    {
      "cell_type": "code",
      "metadata": {
        "id": "P8-qYJcQPusP",
        "colab_type": "code",
        "colab": {}
      },
      "source": [
        "import os\n",
        "\n",
        "ROOT = os.getcwd()\n",
        "\n",
        "NUM_CLASS = 20\n",
        "\n",
        "TRAIN_LABEL_FILE = 'train.txt' \n",
        "\n",
        "TRAIN_LABEL_CSV = 'train.csv'\n",
        "\n",
        "TRAIN_FILE = 'train2014'\n",
        "\n",
        "TRAIN_DATA_DIR = os.path.join(ROOT, TRAIN_FILE)\n",
        "\n",
        "\n",
        "POOLING = 'avg'\n",
        "\n",
        "ACTIVATION = 'sigmoid'\n",
        "\n",
        "\n",
        "METRICS = ['accuracy']\n",
        "\n",
        "TRAIN_RATIO = 0.9\n",
        "\n",
        "DEV_RATIO = 0.05\n",
        "\n",
        "TEST_RATIO = 0.05\n",
        "\n",
        "BATCH_SIZE = 32\n",
        "\n",
        "EPOCH = 10\n",
        "\n",
        "IMAGE_SIZE = 300\n",
        "\n",
        "  \n",
        "TEST_FILE = 'val2014'\n",
        "\n",
        "\n",
        "\n"
      ],
      "execution_count": 0,
      "outputs": []
    },
    {
      "cell_type": "markdown",
      "metadata": {
        "id": "2d8QUUhdMLM9",
        "colab_type": "text"
      },
      "source": [
        "#Data reader\n",
        "* do not run this if train.csv already exists"
      ]
    },
    {
      "cell_type": "code",
      "metadata": {
        "id": "JxOBANVFMNtY",
        "colab_type": "code",
        "colab": {}
      },
      "source": [
        "import csv\n",
        "\n",
        "txt_file = r\"train.txt\"\n",
        "csv_file = r\"train.csv\"\n",
        "\n",
        "# use 'with' if the program isn't going to immediately terminate\n",
        "# so you don't leave files open\n",
        "# the 'b' is necessary on Windows\n",
        "# it prevents \\x1a, Ctrl-z, from ending the stream prematurely\n",
        "# and also stops Python converting to / from different line terminators\n",
        "# On other platforms, it has no effect\n",
        "in_txt = csv.reader(open(txt_file, \"r\"), delimiter = '\\t')\n",
        "out_csv = csv.writer(open(csv_file, 'a'))\n",
        "first_row = ['filename', 'labels']\n",
        "out_csv.writerow(first_row)\n",
        "out_csv.writerows(in_txt)"
      ],
      "execution_count": 0,
      "outputs": []
    },
    {
      "cell_type": "markdown",
      "metadata": {
        "id": "uO3JA31BZBN0",
        "colab_type": "text"
      },
      "source": [
        "#Generators"
      ]
    },
    {
      "cell_type": "code",
      "metadata": {
        "id": "I6CQlQoMZC8h",
        "colab_type": "code",
        "outputId": "cf9589f5-34fa-47c3-d18f-25103f1a5e7c",
        "colab": {
          "base_uri": "https://localhost:8080/",
          "height": 68
        }
      },
      "source": [
        "#split the labels by comma\n",
        "df = pd.read_csv(TRAIN_LABEL_CSV)\n",
        "df[\"labels\"]=df[\"labels\"].apply(lambda x:x.split(\",\"))\n",
        "\n",
        "#read labels\n",
        "with open(TRAIN_LABEL_FILE, 'r') as f:\n",
        "    labels = f.readlines()\n",
        "    \n",
        "#calculate the ratios\n",
        "train_size = int(len(labels) * TRAIN_RATIO)\n",
        "dev_size = int(len(labels) * DEV_RATIO)\n",
        "test_size = int(len(labels) * TEST_RATIO)\n",
        "\n",
        "\n",
        "#set up generators\n",
        "datagen = ImageDataGenerator(\n",
        "#     width_shift_range=0.2,\n",
        "#     height_shift_range=0.2,\n",
        "#     zoom_range=0.2,\n",
        "#     shear_range=0.2,\n",
        "#     rotation_range=40,\n",
        "#     horizontal_flip = True,\n",
        "    rescale=1./255.)\n",
        "\n",
        "test_datagen = ImageDataGenerator(rescale=1./255.)\n",
        "\n",
        "#set up train generator\n",
        "train_generator= datagen.flow_from_dataframe( \n",
        "    dataframe= df[:train_size],\n",
        "    directory= TRAIN_DATA_DIR,\n",
        "    x_col= \"filename\",\n",
        "    y_col= \"labels\",\n",
        "    batch_size= BATCH_SIZE,\n",
        "    seed= 42,\n",
        "    shuffle= True,\n",
        "    class_mode= \"categorical\",\n",
        "    target_size= (IMAGE_SIZE,IMAGE_SIZE,3))\n",
        "\n",
        "#set up dev generator\n",
        "valid_generator=test_datagen.flow_from_dataframe(\n",
        "    dataframe=df[train_size:(train_size + dev_size) ],\n",
        "    directory= TRAIN_DATA_DIR,\n",
        "    x_col= \"filename\",\n",
        "    y_col= \"labels\",\n",
        "    batch_size= BATCH_SIZE,\n",
        "    seed= 42,\n",
        "    shuffle= True,\n",
        "    class_mode= \"categorical\",\n",
        "    target_size= (IMAGE_SIZE,IMAGE_SIZE,3))\n",
        "\n",
        "#set up test\n",
        "test_generator=test_datagen.flow_from_dataframe(\n",
        "    dataframe=df[(train_size + dev_size): ],\n",
        "    directory= TRAIN_DATA_DIR,\n",
        "    x_col= \"filename\",\n",
        "    batch_size= 1,\n",
        "    seed= 42,\n",
        "    shuffle= False,\n",
        "    class_mode= None,\n",
        "    target_size= (IMAGE_SIZE,IMAGE_SIZE,3))\n",
        "\n",
        "\n",
        "\n",
        "\n",
        "#get pretrain weights\n"
      ],
      "execution_count": 35,
      "outputs": [
        {
          "output_type": "stream",
          "text": [
            "Found 28732 images belonging to 20 classes.\n",
            "Found 1596 images belonging to 20 classes.\n",
            "Found 1413 images.\n"
          ],
          "name": "stdout"
        }
      ]
    },
    {
      "cell_type": "markdown",
      "metadata": {
        "id": "-pViKNOGTUzO",
        "colab_type": "text"
      },
      "source": [
        "#Body of the Transfer Learning\n",
        "* uses ResNet-50\n"
      ]
    },
    {
      "cell_type": "code",
      "metadata": {
        "id": "CIb13EROKzNL",
        "colab_type": "code",
        "colab": {}
      },
      "source": [
        ""
      ],
      "execution_count": 0,
      "outputs": []
    },
    {
      "cell_type": "code",
      "metadata": {
        "id": "_6n6dbmReDZn",
        "colab_type": "code",
        "colab": {}
      },
      "source": [
        "base = applications.densenet.DenseNet169(include_top=False, weights='imagenet', pooling = POOLING)"
      ],
      "execution_count": 0,
      "outputs": []
    },
    {
      "cell_type": "code",
      "metadata": {
        "id": "DzkO_AJmSGDT",
        "colab_type": "code",
        "colab": {}
      },
      "source": [
        "#define base model\n",
        "model = Sequential()\n",
        "\n",
        "\n",
        "model.add(base)\n",
        "\n",
        "\n",
        "\n",
        "model.add(Dense(1024, activation = 'relu'))\n",
        "model.add(Dropout(rate = 0.3))\n",
        "model.add(Dense(512, activation = 'relu'))\n",
        "model.add(Dropout(rate = 0.3))\n",
        "\n",
        "model.add(Dense(20, activation = 'sigmoid'))\n",
        "\n",
        "\n",
        "model.layers[0].trainable = False"
      ],
      "execution_count": 0,
      "outputs": []
    },
    {
      "cell_type": "markdown",
      "metadata": {
        "id": "OBA7m22akfC_",
        "colab_type": "text"
      },
      "source": [
        "#Compile model"
      ]
    },
    {
      "cell_type": "code",
      "metadata": {
        "id": "unrODw_7khUe",
        "colab_type": "code",
        "outputId": "8e12d412-a790-4c3d-81ac-8794f4019fd6",
        "colab": {
          "base_uri": "https://localhost:8080/",
          "height": 204
        }
      },
      "source": [
        "def arg(y_true, y_pred):\n",
        "    return K.cast(K.equal(K.argmax(y_true, axis=-1),\n",
        "                          K.argmax(y_pred, axis=-1)),\n",
        "                  K.floatx())\n",
        "\n",
        "  \n",
        "def multi_label_accu(y_true, y_pred):\n",
        "    comp = K.equal(y_true, K.round(y_pred))\n",
        "    return K.cast(K.all(comp, axis=-1), K.floatx())\n",
        "  \n",
        "  \n",
        "\n",
        "\n",
        "opt = optimizers.RMSprop(lr = 0.0005)\n",
        "model.compile(optimizer = opt, loss = 'binary_crossentropy' , metrics = ['accuracy', arg, multi_label_accu])\n",
        "\n",
        "model.summary()\n"
      ],
      "execution_count": 38,
      "outputs": [
        {
          "output_type": "stream",
          "text": [
            "_________________________________________________________________\n",
            "Layer (type)                 Output Shape              Param #   \n",
            "=================================================================\n",
            "densenet169 (Model)          (None, 1664)              12642880  \n",
            "_________________________________________________________________\n",
            "dense (Dense)                (None, 20)                33300     \n",
            "=================================================================\n",
            "Total params: 12,676,180\n",
            "Trainable params: 33,300\n",
            "Non-trainable params: 12,642,880\n",
            "_________________________________________________________________\n"
          ],
          "name": "stdout"
        }
      ]
    },
    {
      "cell_type": "code",
      "metadata": {
        "id": "lcmbHuLJWJoF",
        "colab_type": "code",
        "outputId": "2d6f05d5-0bc0-433a-b987-cdd9ece275de",
        "colab": {
          "base_uri": "https://localhost:8080/",
          "height": 88
        }
      },
      "source": [
        "\n",
        "model.fit_generator(train_generator, \n",
        "                    steps_per_epoch = train_size//BATCH_SIZE,\n",
        "                    validation_data = valid_generator,\n",
        "                    validation_steps= dev_size//BATCH_SIZE,\n",
        "                    epochs = 1,\n",
        "                    verbose = 1\n",
        "                   )\n",
        "\n",
        "\n"
      ],
      "execution_count": 51,
      "outputs": [
        {
          "output_type": "stream",
          "text": [
            "50/50 [==============================] - 15s 291ms/step - loss: 0.1070 - acc: 0.9601 - arg: 0.6673 - multi_label_accu: 0.4254\n",
            "898/898 [==============================] - 670s 746ms/step - loss: 0.1223 - acc: 0.9552 - arg: 0.5884 - multi_label_accu: 0.3659 - val_loss: 0.1070 - val_acc: 0.9601 - val_arg: 0.6673 - val_multi_label_accu: 0.4254\n"
          ],
          "name": "stdout"
        },
        {
          "output_type": "execute_result",
          "data": {
            "text/plain": [
              "<tensorflow.python.keras.callbacks.History at 0x7f75e4a9e908>"
            ]
          },
          "metadata": {
            "tags": []
          },
          "execution_count": 51
        }
      ]
    },
    {
      "cell_type": "markdown",
      "metadata": {
        "id": "xU4_OExmlWKD",
        "colab_type": "text"
      },
      "source": [
        "#Test"
      ]
    },
    {
      "cell_type": "code",
      "metadata": {
        "id": "xH1WB5EulXK5",
        "colab_type": "code",
        "outputId": "8b9d5a9c-a3c5-4a3e-b1dd-0aae178d8a99",
        "colab": {
          "base_uri": "https://localhost:8080/",
          "height": 34
        }
      },
      "source": [
        "test_generator.reset()\n",
        "pred=model.predict_generator(test_generator,\n",
        "                             steps=test_generator.n//test_generator.batch_size,\n",
        "                             verbose=1)\n",
        "\n",
        "\n"
      ],
      "execution_count": 67,
      "outputs": [
        {
          "output_type": "stream",
          "text": [
            "1413/1413 [==============================] - 66s 47ms/step\n"
          ],
          "name": "stdout"
        }
      ]
    },
    {
      "cell_type": "code",
      "metadata": {
        "id": "QO4wVt5ZgBD8",
        "colab_type": "code",
        "colab": {
          "base_uri": "https://localhost:8080/",
          "height": 34
        },
        "outputId": "99010cf4-46ad-45ef-9848-0fc334233d09"
      },
      "source": [
        "test_labels = df['labels'][(train_size + dev_size): ].values\n",
        "df[(train_size + dev_size): ]\n",
        "pred = np.array(pred)\n",
        "am = np.argmax(pred, axis = -1)\n",
        "\n",
        "print(am[:10])"
      ],
      "execution_count": 69,
      "outputs": [
        {
          "output_type": "stream",
          "text": [
            "[12  5 19 18 16 12  4 19 17  3]\n"
          ],
          "name": "stdout"
        }
      ]
    },
    {
      "cell_type": "code",
      "metadata": {
        "id": "QmujvID-ZfsU",
        "colab_type": "code",
        "colab": {}
      },
      "source": [
        ""
      ],
      "execution_count": 0,
      "outputs": []
    },
    {
      "cell_type": "code",
      "metadata": {
        "id": "5U1WA5O_xTMF",
        "colab_type": "code",
        "colab": {}
      },
      "source": [
        "predictions=[]\n",
        "labels = train_generator.class_indices\n",
        "labels = dict((v,k) for k,v in labels.items())\n",
        "for i in am:\n",
        "  predictions.append(labels[i])\n"
      ],
      "execution_count": 0,
      "outputs": []
    },
    {
      "cell_type": "code",
      "metadata": {
        "id": "Rs1srnj-9qNg",
        "colab_type": "code",
        "colab": {}
      },
      "source": [
        "#save as csv\n",
        "filenames=test_generator.filenames\n",
        "results=pd.DataFrame({\"Filename\":filenames,\n",
        "                      \"Predictions\":predictions})\n",
        "results.to_csv(\"results.csv\",index=False)"
      ],
      "execution_count": 0,
      "outputs": []
    },
    {
      "cell_type": "code",
      "metadata": {
        "id": "WAlEwC280jlt",
        "colab_type": "code",
        "outputId": "e9e11d30-c97c-4544-8870-32fc2db81bdd",
        "colab": {
          "base_uri": "https://localhost:8080/",
          "height": 34
        }
      },
      "source": [
        "#print the accuracy of one label\n",
        "t = 0\n",
        "for i in range(len(predictions)):\n",
        "  if(predictions[i] in labels[i]):\n",
        "    t += 1\n",
        "\n",
        "print(t/len(predictions))\n",
        "\n"
      ],
      "execution_count": 55,
      "outputs": [
        {
          "output_type": "stream",
          "text": [
            "0.719037508846426\n"
          ],
          "name": "stdout"
        }
      ]
    },
    {
      "cell_type": "code",
      "metadata": {
        "id": "zL371w23JaNg",
        "colab_type": "code",
        "colab": {}
      },
      "source": [
        ""
      ],
      "execution_count": 0,
      "outputs": []
    },
    {
      "cell_type": "code",
      "metadata": {
        "id": "eHHySimnM8bY",
        "colab_type": "code",
        "colab": {}
      },
      "source": [
        ""
      ],
      "execution_count": 0,
      "outputs": []
    },
    {
      "cell_type": "code",
      "metadata": {
        "id": "2xdxYz0rycxF",
        "colab_type": "code",
        "colab": {
          "base_uri": "https://localhost:8080/",
          "height": 34
        },
        "outputId": "63c9eb84-e618-4f3f-881b-4e7a4ac57639"
      },
      "source": [
        ""
      ],
      "execution_count": 4,
      "outputs": [
        {
          "output_type": "stream",
          "text": [
            "/content/deeplearning_dataset\n"
          ],
          "name": "stdout"
        }
      ]
    },
    {
      "cell_type": "code",
      "metadata": {
        "id": "Ys0xJYksrPUY",
        "colab_type": "code",
        "colab": {}
      },
      "source": [
        ""
      ],
      "execution_count": 0,
      "outputs": []
    }
  ]
}